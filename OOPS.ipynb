{
  "nbformat": 4,
  "nbformat_minor": 0,
  "metadata": {
    "colab": {
      "provenance": []
    },
    "kernelspec": {
      "name": "python3",
      "display_name": "Python 3"
    },
    "language_info": {
      "name": "python"
    }
  },
  "cells": [
    {
      "cell_type": "code",
      "execution_count": null,
      "metadata": {
        "id": "vuB9l2HD-XwB"
      },
      "outputs": [],
      "source": [
        "class Person:\n",
        "  pass"
      ]
    },
    {
      "cell_type": "code",
      "source": [
        "obj = Person()\n",
        "print(type(obj))\n",
        "print(obj) # prints memory adress of that object"
      ],
      "metadata": {
        "colab": {
          "base_uri": "https://localhost:8080/"
        },
        "id": "UI9OUn3_-juC",
        "outputId": "5dea17f3-c175-4d0f-fc56-ee3a679a042c"
      },
      "execution_count": null,
      "outputs": [
        {
          "output_type": "stream",
          "name": "stdout",
          "text": [
            "<class '__main__.Person'>\n",
            "<__main__.Person object at 0x7e06656169b0>\n"
          ]
        }
      ]
    },
    {
      "cell_type": "code",
      "source": [
        "class Person:\n",
        "  name = \"Santa\"\n",
        "  age = 99\n",
        "\n",
        "per = Person()\n",
        "print(per.name)\n",
        "print(per.age)"
      ],
      "metadata": {
        "colab": {
          "base_uri": "https://localhost:8080/"
        },
        "id": "HdBs4xN_-q0J",
        "outputId": "e5d8fd4a-33c5-47ec-d20e-e5511e4604de"
      },
      "execution_count": null,
      "outputs": [
        {
          "output_type": "stream",
          "name": "stdout",
          "text": [
            "Santa\n",
            "99\n"
          ]
        }
      ]
    },
    {
      "cell_type": "code",
      "source": [
        "per.hobby = \"Cricket\"\n",
        "per.nickname = \"Babu\"\n",
        "\n",
        "print(per.hobby)\n",
        "print(per.nickname)\n",
        "\n",
        "#obj = Person()\n",
        "#print(obj.nickname) --> Attribute error"
      ],
      "metadata": {
        "colab": {
          "base_uri": "https://localhost:8080/"
        },
        "id": "dog3tdtyDho-",
        "outputId": "cf0af31e-bf1d-404c-d889-7684b4e947b5"
      },
      "execution_count": null,
      "outputs": [
        {
          "output_type": "stream",
          "name": "stdout",
          "text": [
            "Cricket\n",
            "Babu\n"
          ]
        }
      ]
    },
    {
      "cell_type": "code",
      "source": [
        "class Person:\n",
        "  def __init__(self, name, age):\n",
        "    self.name = name\n",
        "    self.age = age\n",
        "\n",
        "Per1 = Person(\"Vishwa\", 95)\n",
        "Per2 = Person(\"Mohan\", 92)\n",
        "\n",
        "\n",
        "print(Per1.name)\n",
        "print(Per2.name)"
      ],
      "metadata": {
        "colab": {
          "base_uri": "https://localhost:8080/"
        },
        "id": "IU4awKIBDxyN",
        "outputId": "04caf3b3-49c8-42ba-e8a2-a70bc4780ebb"
      },
      "execution_count": null,
      "outputs": [
        {
          "output_type": "stream",
          "name": "stdout",
          "text": [
            "Vishwa\n",
            "Mohan\n"
          ]
        }
      ]
    },
    {
      "cell_type": "code",
      "source": [
        "class Person:\n",
        "  def __init__(self, name, age): # ignored\n",
        "    self.name = name\n",
        "    self.age = age\n",
        "\n",
        "  def __init__(self, name):    # actual __init__ method\n",
        "    self.name = name\n",
        "\n",
        "per = Person(\"Vishwa\")\n",
        "print(per.name)\n"
      ],
      "metadata": {
        "colab": {
          "base_uri": "https://localhost:8080/"
        },
        "id": "d0nzKU2TFpbd",
        "outputId": "4c76f2c5-095c-4b22-cad1-3222bf353bca"
      },
      "execution_count": null,
      "outputs": [
        {
          "output_type": "stream",
          "name": "stdout",
          "text": [
            "Vishwa\n"
          ]
        }
      ]
    },
    {
      "cell_type": "markdown",
      "source": [
        "One class should have only one definition"
      ],
      "metadata": {
        "id": "x22k0J-dJvpO"
      }
    },
    {
      "cell_type": "code",
      "source": [
        "class Person:\n",
        "  def __init__(self, name, age=99, hobby=\"Cricket\"):\n",
        "    self.name = name\n",
        "    self.age = age\n",
        "    self.hobby = hobby\n",
        "\n",
        "Per1 = Person(\"Vishwa\")\n",
        "Per2 = Person(\"Vishwa\", 90)\n",
        "Per3 = Person(\"Vishwa\", 90, \"Football\")\n",
        "\n",
        "print(Per1.hobby)\n",
        "print(Per3.hobby)\n"
      ],
      "metadata": {
        "colab": {
          "base_uri": "https://localhost:8080/"
        },
        "id": "ZeL72WnWKljI",
        "outputId": "b591e430-145a-452b-aa83-64836f4a761c"
      },
      "execution_count": null,
      "outputs": [
        {
          "output_type": "stream",
          "name": "stdout",
          "text": [
            "Cricket\n",
            "Football\n"
          ]
        }
      ]
    },
    {
      "cell_type": "code",
      "source": [
        "class Person:\n",
        "  country = \"India\"\n",
        "  def __init__(self, name, age):\n",
        "    self.name = name\n",
        "    self.age = age\n",
        "\n",
        "Per1 = Person(\"Vishwa\",99)\n",
        "Per2 = Person(\"Shweta\",73)\n",
        "\n",
        "print(Per1.name, Per1.country)\n",
        "print(Per2.name, Per2.country)\n",
        "\n",
        "print(Person.country)"
      ],
      "metadata": {
        "colab": {
          "base_uri": "https://localhost:8080/"
        },
        "id": "vRPmh4QCLTmF",
        "outputId": "734a7367-3e7a-4522-f163-877f510c7ca2"
      },
      "execution_count": null,
      "outputs": [
        {
          "output_type": "stream",
          "name": "stdout",
          "text": [
            "Vishwa India\n",
            "Shweta India\n",
            "India\n"
          ]
        }
      ]
    },
    {
      "cell_type": "code",
      "source": [
        "# instance/ object method\n",
        "class Person:\n",
        "  def __init__(self, name, age):\n",
        "    self.name = name\n",
        "    self.age = age\n",
        "\n",
        "  def findage(self):\n",
        "    return self.age\n",
        "\n",
        "Per = Person(\"Vishwa\", 99)\n",
        "print(Per.findage())"
      ],
      "metadata": {
        "colab": {
          "base_uri": "https://localhost:8080/"
        },
        "id": "8ohrSlQENkz2",
        "outputId": "79b3e2db-0ae8-49e0-fad9-d2e2bbb369a1"
      },
      "execution_count": null,
      "outputs": [
        {
          "output_type": "stream",
          "name": "stdout",
          "text": [
            "99\n"
          ]
        }
      ]
    },
    {
      "cell_type": "code",
      "source": [
        "# class method and static method\n",
        "class Person:\n",
        "\n",
        "  country = \"India\"\n",
        "\n",
        "  @classmethod\n",
        "  def greet(cls):\n",
        "    print(\"Hello from \", cls.country)\n",
        "\n",
        "  @staticmethod\n",
        "  def hello():\n",
        "    print(\"Hello\")\n",
        "\n",
        "  def __init__(self, name, age):\n",
        "    self.name = name\n",
        "    self.age = age\n",
        "\n",
        "  def findage(self):\n",
        "    return self.age\n",
        "\n",
        "Per = Person(\"Vishwa\", 99)\n",
        "print(Per.findage())\n",
        "\n",
        "Per.greet()\n",
        "Person.greet()\n",
        "Person.hello()"
      ],
      "metadata": {
        "colab": {
          "base_uri": "https://localhost:8080/"
        },
        "id": "NuR1PWdXPIQe",
        "outputId": "9562e1d3-3d9e-40c2-fd8b-ae2722f3c8c8"
      },
      "execution_count": null,
      "outputs": [
        {
          "output_type": "stream",
          "name": "stdout",
          "text": [
            "99\n",
            "Hello from  India\n",
            "Hello from  India\n",
            "Hello\n"
          ]
        }
      ]
    },
    {
      "cell_type": "code",
      "source": [
        "class Calculator:          # Explicit method overloading\n",
        "  def add(self, a, b):\n",
        "    return a+b\n",
        "\n",
        "  def add(self, a, b, c):\n",
        "    return a+b+c\n",
        "\n",
        "cal = Calculator()\n",
        "\n",
        "print(cal.add(5,6))"
      ],
      "metadata": {
        "colab": {
          "base_uri": "https://localhost:8080/",
          "height": 176
        },
        "id": "aNR-u0ZsRZxJ",
        "outputId": "70f0b21a-628e-4280-f6a2-da4992ddc75a"
      },
      "execution_count": null,
      "outputs": [
        {
          "output_type": "error",
          "ename": "TypeError",
          "evalue": "Calculator.add() missing 1 required positional argument: 'c'",
          "traceback": [
            "\u001b[0;31m---------------------------------------------------------------------------\u001b[0m",
            "\u001b[0;31mTypeError\u001b[0m                                 Traceback (most recent call last)",
            "\u001b[0;32m<ipython-input-29-1c4ada654ab5>\u001b[0m in \u001b[0;36m<cell line: 10>\u001b[0;34m()\u001b[0m\n\u001b[1;32m      8\u001b[0m \u001b[0mcal\u001b[0m \u001b[0;34m=\u001b[0m \u001b[0mCalculator\u001b[0m\u001b[0;34m(\u001b[0m\u001b[0;34m)\u001b[0m\u001b[0;34m\u001b[0m\u001b[0;34m\u001b[0m\u001b[0m\n\u001b[1;32m      9\u001b[0m \u001b[0;34m\u001b[0m\u001b[0m\n\u001b[0;32m---> 10\u001b[0;31m \u001b[0mprint\u001b[0m\u001b[0;34m(\u001b[0m\u001b[0mcal\u001b[0m\u001b[0;34m.\u001b[0m\u001b[0madd\u001b[0m\u001b[0;34m(\u001b[0m\u001b[0;36m5\u001b[0m\u001b[0;34m,\u001b[0m\u001b[0;36m6\u001b[0m\u001b[0;34m)\u001b[0m\u001b[0;34m)\u001b[0m\u001b[0;34m\u001b[0m\u001b[0;34m\u001b[0m\u001b[0m\n\u001b[0m",
            "\u001b[0;31mTypeError\u001b[0m: Calculator.add() missing 1 required positional argument: 'c'"
          ]
        }
      ]
    },
    {
      "cell_type": "code",
      "source": [
        "# Implicit method overloading\n",
        "class Calculator:\n",
        "\n",
        "  def add(self, a, b, c=0):\n",
        "    return a+b+c\n",
        "\n",
        "cal = Calculator()\n",
        "\n",
        "print(cal.add(5,6,7))\n",
        "print(cal.add(5,6))\n"
      ],
      "metadata": {
        "colab": {
          "base_uri": "https://localhost:8080/"
        },
        "id": "DBjsad7pTGcK",
        "outputId": "eacf8130-aef2-44ca-958d-0b2bd980d5c6"
      },
      "execution_count": null,
      "outputs": [
        {
          "output_type": "stream",
          "name": "stdout",
          "text": [
            "18\n",
            "11\n"
          ]
        }
      ]
    },
    {
      "cell_type": "code",
      "source": [
        "'''\n",
        "public and private\n",
        "\n",
        "'''\n",
        "class Person:\n",
        "\n",
        "  def __init__(self, name, age, salary):\n",
        "    self.name = name\n",
        "    self.age = age\n",
        "    self.__salary = salary\n",
        "\n",
        "    def findage(self):\n",
        "      return self.age\n",
        "\n",
        "    def getSalary(self):\n",
        "      print(self.__salary)\n",
        "      self.__calculateTax()\n",
        "\n",
        "    def __calculateTax(self):\n",
        "      print(\"Calculating tax\")\n",
        "\n",
        "per = Person(\"Vishwa\", 99, 5000)\n",
        "\n",
        "print(per.name)\n",
        "per.getSalary()"
      ],
      "metadata": {
        "id": "luWnNt8hT4hz",
        "colab": {
          "base_uri": "https://localhost:8080/",
          "height": 193
        },
        "outputId": "2a6b9282-57db-45bd-f1d6-9073f427f6bb"
      },
      "execution_count": null,
      "outputs": [
        {
          "output_type": "stream",
          "name": "stdout",
          "text": [
            "Vishwa\n"
          ]
        },
        {
          "output_type": "error",
          "ename": "AttributeError",
          "evalue": "'Person' object has no attribute 'getSalary'",
          "traceback": [
            "\u001b[0;31m---------------------------------------------------------------------------\u001b[0m",
            "\u001b[0;31mAttributeError\u001b[0m                            Traceback (most recent call last)",
            "\u001b[0;32m<ipython-input-6-e192d5eaf793>\u001b[0m in \u001b[0;36m<cell line: 24>\u001b[0;34m()\u001b[0m\n\u001b[1;32m     22\u001b[0m \u001b[0;34m\u001b[0m\u001b[0m\n\u001b[1;32m     23\u001b[0m \u001b[0mprint\u001b[0m\u001b[0;34m(\u001b[0m\u001b[0mper\u001b[0m\u001b[0;34m.\u001b[0m\u001b[0mname\u001b[0m\u001b[0;34m)\u001b[0m\u001b[0;34m\u001b[0m\u001b[0;34m\u001b[0m\u001b[0m\n\u001b[0;32m---> 24\u001b[0;31m \u001b[0mper\u001b[0m\u001b[0;34m.\u001b[0m\u001b[0mgetSalary\u001b[0m\u001b[0;34m(\u001b[0m\u001b[0;34m)\u001b[0m\u001b[0;34m\u001b[0m\u001b[0;34m\u001b[0m\u001b[0m\n\u001b[0m",
            "\u001b[0;31mAttributeError\u001b[0m: 'Person' object has no attribute 'getSalary'"
          ]
        }
      ]
    },
    {
      "cell_type": "code",
      "source": [
        "print(per._Person__salary)"
      ],
      "metadata": {
        "colab": {
          "base_uri": "https://localhost:8080/"
        },
        "id": "tAK4Cph3ymwu",
        "outputId": "1baeb47f-94c4-45b4-ce89-ed6894f84c02"
      },
      "execution_count": null,
      "outputs": [
        {
          "output_type": "stream",
          "name": "stdout",
          "text": [
            "5000\n"
          ]
        }
      ]
    },
    {
      "cell_type": "code",
      "source": [
        "# Encapsulation\n",
        "\n",
        "class Person1:\n",
        "\n",
        "  def __init__(self, name, car):\n",
        "    self.__name = name\n",
        "    self.__car = car\n",
        "\n",
        "  # Getters and setters -> Public method to allow the controlled interactions\n",
        "\n",
        "  def getName(self):\n",
        "    return self.__name\n",
        "\n",
        "  def setName(self, name):\n",
        "    self.__name = name\n",
        "\n",
        "  def getCar(self):\n",
        "    return self.__car\n",
        "\n",
        "  def setCar(self, car):\n",
        "    self.__car = car\n",
        "\n",
        "Per = Person1(\"Vishwa\", 99)\n",
        "print(Per.getName())\n",
        "Per.setName(\"Vishwa Mohan Singh\")\n",
        "print(Per.getName())\n"
      ],
      "metadata": {
        "colab": {
          "base_uri": "https://localhost:8080/"
        },
        "id": "juaEJeP11ZDj",
        "outputId": "a676a977-9d46-45e4-f376-f07a692c3471"
      },
      "execution_count": null,
      "outputs": [
        {
          "output_type": "stream",
          "name": "stdout",
          "text": [
            "Vishwa\n",
            "Vishwa Mohan Singh\n"
          ]
        }
      ]
    },
    {
      "cell_type": "markdown",
      "source": [
        "Inheritance"
      ],
      "metadata": {
        "id": "ouDPEsUx5wDy"
      }
    },
    {
      "cell_type": "code",
      "source": [
        "class Animal:\n",
        "\n",
        "  def __init__(self, name):\n",
        "    self.name = name\n",
        "\n",
        "  def eat(self):\n",
        "    print(self.name + \" animal is eating\")\n",
        "\n",
        "  def getTheNameOfDog(self):\n",
        "    print(self.name)\n",
        "\n",
        "class Dog(Animal):\n",
        "\n",
        "  def __init__(self, name, type):\n",
        "    #Call the constructor / initializer of animal class\n",
        "\n",
        "    Animal.__init__(self, name)\n",
        "    self.type = type\n",
        "\n",
        "dog = Dog(\"Moti\", \"dobberman\")\n",
        "dog.eat()\n",
        "dog.getTheNameOfDog()"
      ],
      "metadata": {
        "colab": {
          "base_uri": "https://localhost:8080/"
        },
        "id": "DJI78rgm3zDQ",
        "outputId": "08d64c05-5e80-40f9-d936-a555eef8ec4e"
      },
      "execution_count": null,
      "outputs": [
        {
          "output_type": "stream",
          "name": "stdout",
          "text": [
            "Moti animal is eating\n",
            "Moti\n"
          ]
        }
      ]
    },
    {
      "cell_type": "markdown",
      "source": [
        "Use of super keyword"
      ],
      "metadata": {
        "id": "Mn-8EUKwYxSj"
      }
    },
    {
      "cell_type": "code",
      "source": [
        "class Parent:\n",
        "\n",
        "  property = 90\n",
        "\n",
        "  def eat(self):\n",
        "    print(\"Parent eating\")\n",
        "\n",
        "class Child(Parent):\n",
        "\n",
        "  property = 99\n",
        "\n",
        "  def eat(self):\n",
        "    print(\"Child eating\")\n",
        "\n",
        "  def display(self):\n",
        "    print(\"Child property\", self.property)\n",
        "    print(\"Parent property\", super().property)\n",
        "\n",
        "  def callEat(self):\n",
        "    self.eat()\n",
        "    super().eat()\n",
        "\n",
        "obj = Child()\n",
        "obj.display()\n",
        "\n",
        "obj.callEat()"
      ],
      "metadata": {
        "colab": {
          "base_uri": "https://localhost:8080/"
        },
        "id": "w_i1SCVcY0qI",
        "outputId": "7c3be1bd-1657-48e7-f3c1-4e8cf3808589"
      },
      "execution_count": null,
      "outputs": [
        {
          "output_type": "stream",
          "name": "stdout",
          "text": [
            "Child property 99\n",
            "Parent property 90\n",
            "Child eating\n",
            "Parent eating\n"
          ]
        }
      ]
    },
    {
      "cell_type": "code",
      "source": [
        "# Types of inheritance\n",
        "\n",
        "# Single level inheritance\n",
        "\n",
        "class Animal:\n",
        "\n",
        "  def __init__(self, name):\n",
        "    self.name = name\n",
        "\n",
        "  def eat(self):\n",
        "    print(\"Animal is eating\")\n",
        "\n",
        "class Dog(Animal):\n",
        "\n",
        "  def __init__(self, name, type):\n",
        "    super().__init__(name)\n",
        "    self.type = type\n",
        "\n",
        "obj = Dog('Moti','dobberman')\n",
        "obj.eat()"
      ],
      "metadata": {
        "id": "64IeZGD8cG9S",
        "colab": {
          "base_uri": "https://localhost:8080/"
        },
        "outputId": "8b0876f2-f932-462b-fd46-8d6c3666b7e3"
      },
      "execution_count": null,
      "outputs": [
        {
          "output_type": "stream",
          "name": "stdout",
          "text": [
            "Animal is eating\n"
          ]
        }
      ]
    },
    {
      "cell_type": "code",
      "source": [
        "# Multi level inheritance\n",
        "\n",
        "class Animal:\n",
        "\n",
        "  def __init__(self, name):\n",
        "    self.name = name\n",
        "\n",
        "  def eat(self):\n",
        "    print(\"Animal is eating\")\n",
        "\n",
        "class Dog(Animal):\n",
        "\n",
        "  def __init__(self, name, type):\n",
        "    super().__init__(name)\n",
        "    self.type = type\n",
        "\n",
        "class Pet(Dog):\n",
        "\n",
        "  def __init__(self, name, type, housename):\n",
        "    super().__init__(name,type)\n",
        "    self.housename = housename\n",
        "\n"
      ],
      "metadata": {
        "id": "vzJqOnNkdZCg"
      },
      "execution_count": null,
      "outputs": []
    },
    {
      "cell_type": "code",
      "source": [
        "# Hierarichal inheritance\n",
        "\n",
        "class Animal:\n",
        "\n",
        "  def __init__(self, name):\n",
        "    self.name = name\n",
        "\n",
        "  def eat(self):\n",
        "    print(\"Animal is eating\")\n",
        "\n",
        "class Dog(Animal):\n",
        "\n",
        "  def __init__(self, name, type):\n",
        "    super().__init__(name)\n",
        "    self.type = type\n",
        "\n",
        "class Cat(Animal):\n",
        "\n",
        "  def __init__(self, name, type):\n",
        "    super().__init__(name)\n",
        "    self.type = type\n",
        "\n",
        "# Hybrid inheritance\n",
        "class Pet(Cat, Dog):\n",
        "  pass\n"
      ],
      "metadata": {
        "id": "05LEIJPyd6H1"
      },
      "execution_count": null,
      "outputs": []
    },
    {
      "cell_type": "code",
      "source": [
        "# Multi inheritance\n",
        "\n",
        "class A:\n",
        "  def meth1(self):\n",
        "    print(\"Hello from A\")\n",
        "\n",
        "class B:\n",
        "  def meth2(self):\n",
        "    print(\"Hello from B\")\n",
        "\n",
        "class C(A,B):\n",
        "  def meth(self):\n",
        "    print(\"Hello from the child\")\n",
        "\n",
        "obj = C()\n",
        "obj.meth1()\n",
        "obj.meth2()\n",
        "obj.meth()"
      ],
      "metadata": {
        "colab": {
          "base_uri": "https://localhost:8080/"
        },
        "id": "m1gw4eZjemsJ",
        "outputId": "104fcfb4-fffa-4e05-a72a-f3ee0105df94"
      },
      "execution_count": null,
      "outputs": [
        {
          "output_type": "stream",
          "name": "stdout",
          "text": [
            "Hello from A\n",
            "Hello from B\n",
            "Hello from the child\n"
          ]
        }
      ]
    },
    {
      "cell_type": "code",
      "source": [
        "# MRO -> Method resolution order\n",
        "\n",
        "class A:\n",
        "  def meth1(self):\n",
        "    print(\"Hello from A\")\n",
        "\n",
        "class B:\n",
        "  def meth1(self):\n",
        "    print(\"Hello from B\")\n",
        "\n",
        "class C(A,B):\n",
        "  def meth(self):\n",
        "    print(\"Hello from the child\")\n",
        "\n",
        "c = C()\n",
        "c.meth1()\n",
        "\n",
        "print(C.__mro__)"
      ],
      "metadata": {
        "colab": {
          "base_uri": "https://localhost:8080/"
        },
        "id": "D_cu_DCGfcfv",
        "outputId": "969c533d-62ef-4a11-ae00-03a236ba3a52"
      },
      "execution_count": null,
      "outputs": [
        {
          "output_type": "stream",
          "name": "stdout",
          "text": [
            "Hello from A\n",
            "(<class '__main__.C'>, <class '__main__.A'>, <class '__main__.B'>, <class 'object'>)\n"
          ]
        }
      ]
    },
    {
      "cell_type": "code",
      "source": [
        "# Abstract\n",
        "\n",
        "class Animal:\n",
        "  def eat(self):\n",
        "    pass\n",
        "\n",
        "animal = Animal()\n",
        "animal.eat()"
      ],
      "metadata": {
        "id": "V5fsFcaahVJN"
      },
      "execution_count": null,
      "outputs": []
    },
    {
      "cell_type": "code",
      "source": [
        "from abc  import ABC, abstractmethod\n",
        "\n",
        "class Animal(ABC):\n",
        "  @abstractmethod\n",
        "  def eat(self):\n",
        "    pass\n",
        "\n",
        "c = Animal()\n",
        "c.eat()"
      ],
      "metadata": {
        "colab": {
          "base_uri": "https://localhost:8080/",
          "height": 193
        },
        "id": "QTYKLTIrk4Wg",
        "outputId": "94494492-99a6-4e42-f12e-7b1734bcba47"
      },
      "execution_count": null,
      "outputs": [
        {
          "output_type": "error",
          "ename": "TypeError",
          "evalue": "Can't instantiate abstract class Animal with abstract method eat",
          "traceback": [
            "\u001b[0;31m---------------------------------------------------------------------------\u001b[0m",
            "\u001b[0;31mTypeError\u001b[0m                                 Traceback (most recent call last)",
            "\u001b[0;32m<ipython-input-12-5b631a14b63e>\u001b[0m in \u001b[0;36m<cell line: 8>\u001b[0;34m()\u001b[0m\n\u001b[1;32m      6\u001b[0m     \u001b[0;32mpass\u001b[0m\u001b[0;34m\u001b[0m\u001b[0;34m\u001b[0m\u001b[0m\n\u001b[1;32m      7\u001b[0m \u001b[0;34m\u001b[0m\u001b[0m\n\u001b[0;32m----> 8\u001b[0;31m \u001b[0mc\u001b[0m \u001b[0;34m=\u001b[0m \u001b[0mAnimal\u001b[0m\u001b[0;34m(\u001b[0m\u001b[0;34m)\u001b[0m\u001b[0;34m\u001b[0m\u001b[0;34m\u001b[0m\u001b[0m\n\u001b[0m\u001b[1;32m      9\u001b[0m \u001b[0mc\u001b[0m\u001b[0;34m.\u001b[0m\u001b[0meat\u001b[0m\u001b[0;34m(\u001b[0m\u001b[0;34m)\u001b[0m\u001b[0;34m\u001b[0m\u001b[0;34m\u001b[0m\u001b[0m\n",
            "\u001b[0;31mTypeError\u001b[0m: Can't instantiate abstract class Animal with abstract method eat"
          ]
        }
      ]
    },
    {
      "cell_type": "code",
      "source": [
        "class Dog(Animal):          # Method overriding\n",
        "                            # Both parent and child have the same method\n",
        "  def sleep(self):\n",
        "    print(\"dog is sleeping\")\n",
        "\n",
        "  def eat(self):\n",
        "    print(\"Dog is eating\")\n",
        "\n",
        "d = Dog()"
      ],
      "metadata": {
        "id": "Dag_7_I-nArm"
      },
      "execution_count": null,
      "outputs": []
    },
    {
      "cell_type": "markdown",
      "source": [
        "Polymorphism"
      ],
      "metadata": {
        "id": "sHmjrdO7n_Rn"
      }
    },
    {
      "cell_type": "markdown",
      "source": [
        "It uses inheritance, depending on the which object is calling at the runtime"
      ],
      "metadata": {
        "id": "ccpe98rJqgMe"
      }
    },
    {
      "cell_type": "code",
      "source": [
        "class Animal:\n",
        "  def eat(self):\n",
        "    print(\"Animal is eating\")\n",
        "\n",
        "class Dog(Animal):\n",
        "  def eat(self):\n",
        "    print(\"Dog is eating\")\n",
        "\n",
        "class Cat(Animal):\n",
        "  def eat(self):\n",
        "    print(\"Cat is eating\")\n",
        "\n",
        "a = Animal()\n",
        "d = Dog()\n",
        "c = Cat()\n",
        "\n",
        "a.eat()\n",
        "d.eat()\n",
        "c.eat()"
      ],
      "metadata": {
        "colab": {
          "base_uri": "https://localhost:8080/"
        },
        "id": "XXIrpHKXoC2_",
        "outputId": "aa073243-4a8b-4500-f90c-c3afeab59dbd"
      },
      "execution_count": null,
      "outputs": [
        {
          "output_type": "stream",
          "name": "stdout",
          "text": [
            "Animal is eating\n",
            "Dog is eating\n",
            "Cat is eating\n"
          ]
        }
      ]
    },
    {
      "cell_type": "code",
      "source": [
        "# Duck typing concept\n",
        "class Birdfly:\n",
        "  def flybird(self, bird):\n",
        "    bird.fly()\n",
        "\n",
        "class Parrot:\n",
        "  def fly(self):\n",
        "    print(\"Parrot is flying\")\n",
        "\n",
        "class Crow:\n",
        "  def fly(self):\n",
        "    print(\"Crow is flying\")\n",
        "\n",
        "p = Parrot()\n",
        "c = Crow()\n",
        "\n",
        "bf = Birdfly()\n",
        "\n",
        "bf.flybird(p)\n",
        "bf.flybird(c)"
      ],
      "metadata": {
        "colab": {
          "base_uri": "https://localhost:8080/"
        },
        "id": "OEPMPLpUqj-4",
        "outputId": "00af9a4d-5a0d-40b4-b9c9-72b12f72d7ac"
      },
      "execution_count": null,
      "outputs": [
        {
          "output_type": "stream",
          "name": "stdout",
          "text": [
            "Parrot is flying\n",
            "Crow is flying\n"
          ]
        }
      ]
    },
    {
      "cell_type": "code",
      "source": [
        "# HasA -> Aggregation\n",
        "\n",
        "class Car:\n",
        "  def __init__(self, brand, color):\n",
        "    self.brand = brand\n",
        "    self.color = color\n",
        "\n",
        "class Person:\n",
        "  def __init__(self, name, car):\n",
        "    self.name =  name\n",
        "    self.car = car\n",
        "\n",
        "car = Car(\"BMW\", \"Black\")\n",
        "person = Person(\"Vishwa\", car)\n"
      ],
      "metadata": {
        "id": "pwVpQt8ouV3W"
      },
      "execution_count": null,
      "outputs": []
    },
    {
      "cell_type": "code",
      "source": [
        "# Composition\n",
        "\n",
        "class Engines:\n",
        "  def engineDetails(self):\n",
        "    print(\"Engine model is E1213\")\n",
        "\n",
        "class Doors:\n",
        "  def doorDetails(self):\n",
        "    print(\"The door of the car is automatic\")\n",
        "\n",
        "class Tyres:\n",
        "  def tyreDetails(self):\n",
        "    print(\"Car Tyre is apollo\")\n",
        "\n",
        "class Car:\n",
        "  def __init__(self):\n",
        "    self.engine = Engines()\n",
        "    self.door = Doors()\n",
        "    self.tyre = Tyres()\n",
        "\n",
        "  def printDetails(self):\n",
        "    self.engine.engineDetails()\n",
        "    self.tyre.tyreDetails()\n",
        "    self.door.doorDetails()\n",
        "\n",
        "c = Car()\n",
        "c.printDetails()"
      ],
      "metadata": {
        "colab": {
          "base_uri": "https://localhost:8080/"
        },
        "id": "mYBwhW_6vILC",
        "outputId": "a688f76b-a400-4bbf-85fa-0118e45c92ac"
      },
      "execution_count": null,
      "outputs": [
        {
          "output_type": "stream",
          "name": "stdout",
          "text": [
            "Engine model is E1213\n",
            "Car Tyre is apollo\n",
            "The door of the car is automatic\n"
          ]
        }
      ]
    }
  ]
}