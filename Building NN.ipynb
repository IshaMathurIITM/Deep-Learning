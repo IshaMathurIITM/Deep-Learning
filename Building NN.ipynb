{
 "cells": [
  {
   "cell_type": "code",
   "execution_count": 101,
   "id": "66ad07b6",
   "metadata": {},
   "outputs": [],
   "source": [
    "import numpy as np"
   ]
  },
  {
   "cell_type": "code",
   "execution_count": 102,
   "id": "d303ad3d",
   "metadata": {},
   "outputs": [],
   "source": [
    "inputs = np.array([[1,2,3,2.5],[2.0,5.0,-1.0,2.0],[-1.5,2.7,3.3,-0.8]])\n",
    "weights = np.array([[0.2,0.8,-0.5,1.0],[0.5,-0.91,0.26,-0.5],[-0.26,-0.27,0.17,0.87]])\n",
    "biases = np.array([2,3,0.5])"
   ]
  },
  {
   "cell_type": "code",
   "execution_count": 103,
   "id": "6e5b64a3",
   "metadata": {},
   "outputs": [
    {
     "data": {
      "text/plain": [
       "array([[ 4.79999995,  1.21000004,  2.38499999],\n",
       "       [ 8.9000001 , -1.80999994,  0.19999999],\n",
       "       [ 1.41000003,  1.051     ,  0.02599999]])"
      ]
     },
     "execution_count": 103,
     "metadata": {},
     "output_type": "execute_result"
    }
   ],
   "source": [
    "layer1_outputs = np.dot(inputs, np.array(weights).T) + biases\n",
    "layer1_outputs"
   ]
  },
  {
   "cell_type": "code",
   "execution_count": 104,
   "id": "84ddf3a5",
   "metadata": {},
   "outputs": [],
   "source": [
    "# layer_1 outputs become inputs for layer_2\n",
    "weights2 = [[0.1,-0.14,0.5],[-0.5,0.12,-0.33],[-0.44,0.73,-0.13]]\n",
    "biases2 = [-1,2,-0.5]"
   ]
  },
  {
   "cell_type": "code",
   "execution_count": 105,
   "id": "58a295c7",
   "metadata": {},
   "outputs": [
    {
     "data": {
      "text/plain": [
       "array([[ 3.50310004, -0.04184985, -1.03874993],\n",
       "       [ 3.24339998, -1.73320007, -4.76329994],\n",
       "       [ 2.00686   ,  2.41254002,  0.64344999]])"
      ]
     },
     "execution_count": 105,
     "metadata": {},
     "output_type": "execute_result"
    }
   ],
   "source": [
    "layer2_outputs = np.dot(layer1_outputs,np.array(weights2).T) + biases\n",
    "layer2_outputs"
   ]
  },
  {
   "cell_type": "code",
   "execution_count": 106,
   "id": "7c53e06c",
   "metadata": {},
   "outputs": [],
   "source": [
    "np.random.seed(0)   # reproduce same results everytime\n",
    "\n",
    "X = np.array([[1,2,3,2.5],\n",
    "    [2.0,5.0,-1.0,2.0],\n",
    "    [-1.5,2.7,3.3,-0.8]])"
   ]
  },
  {
   "cell_type": "code",
   "execution_count": 107,
   "id": "c1f486d1",
   "metadata": {},
   "outputs": [],
   "source": [
    "class Layer_Dense:\n",
    "    def __init__(self, n_inputs, n_neurons):\n",
    "        self.weights = 0.10 * np.random.randn(n_inputs, n_neurons) # get same value of weights each time running the code\n",
    "        self.biases = np.zeros((1, n_neurons))\n",
    "    \n",
    "    def forward(self,inputs):\n",
    "        self.output = np.dot(inputs, self.weights) + self.biases"
   ]
  },
  {
   "cell_type": "code",
   "execution_count": 108,
   "id": "d0d1ec78",
   "metadata": {},
   "outputs": [
    {
     "data": {
      "text/plain": [
       "array([[ 0.10758132,  1.0398352 ,  0.2446241 ,  0.31821495,  0.18851054],\n",
       "       [-0.08349796,  0.70846415,  0.00293357,  0.44701523,  0.3636054 ],\n",
       "       [-0.50763243,  0.5568842 ,  0.07987796, -0.34889573,  0.04553042]],\n",
       "      dtype=float32)"
      ]
     },
     "execution_count": 108,
     "metadata": {},
     "output_type": "execute_result"
    }
   ],
   "source": [
    "layer1 = Layer_Dense(4,5)\n",
    "layer2 = Layer_Dense(5,2)\n",
    "\n",
    "layer1.forward(X)\n",
    "layer1.output"
   ]
  },
  {
   "cell_type": "code",
   "execution_count": 109,
   "id": "1c3a2abb",
   "metadata": {},
   "outputs": [
    {
     "data": {
      "text/plain": [
       "array([[ 0.148296  , -0.08397602],\n",
       "       [ 0.14100316, -0.01340469],\n",
       "       [ 0.20124978, -0.07290616]], dtype=float32)"
      ]
     },
     "execution_count": 109,
     "metadata": {},
     "output_type": "execute_result"
    }
   ],
   "source": [
    "layer2.forward(layer1.output)\n",
    "layer2.output"
   ]
  },
  {
   "cell_type": "markdown",
   "id": "57a1e917",
   "metadata": {},
   "source": [
    "## Activation Functions"
   ]
  },
  {
   "cell_type": "markdown",
   "id": "b2652aad",
   "metadata": {},
   "source": [
    "### Rectified Linear Function (ReLU)"
   ]
  },
  {
   "cell_type": "code",
   "execution_count": 110,
   "id": "f98ce88d",
   "metadata": {},
   "outputs": [],
   "source": [
    "x = np.array([[1,2,3,2.5],\n",
    "    [2.0,5.0,-1.0,2.0],\n",
    "    [-1.5,2.7,3.3,-0.8]])"
   ]
  },
  {
   "cell_type": "code",
   "execution_count": 111,
   "id": "2a59bfbc",
   "metadata": {},
   "outputs": [],
   "source": [
    "inputs = [0,2,-1,3.3,-2.7,1.1,2.2,-100]\n",
    "output = []"
   ]
  },
  {
   "cell_type": "code",
   "execution_count": 112,
   "id": "e7475d8b",
   "metadata": {},
   "outputs": [
    {
     "data": {
      "text/plain": [
       "[0, 2, 0, 3.3, 0, 1.1, 2.2, 0]"
      ]
     },
     "execution_count": 112,
     "metadata": {},
     "output_type": "execute_result"
    }
   ],
   "source": [
    "for i in inputs:\n",
    "    output.append(max(0,i))  \n",
    "output    "
   ]
  },
  {
   "cell_type": "code",
   "execution_count": 113,
   "id": "6e22fb4d",
   "metadata": {},
   "outputs": [],
   "source": [
    "class Activation_ReLU:\n",
    "    def forward(self, inputs):\n",
    "       self.output = np.maximum(0, inputs) "
   ]
  },
  {
   "cell_type": "code",
   "execution_count": 114,
   "id": "abbce0d1",
   "metadata": {},
   "outputs": [
    {
     "data": {
      "text/plain": [
       "array([[ 0.10758132,  1.0398352 ,  0.2446241 ,  0.31821495,  0.18851054],\n",
       "       [-0.08349796,  0.70846415,  0.00293357,  0.44701523,  0.3636054 ],\n",
       "       [-0.50763243,  0.5568842 ,  0.07987796, -0.34889573,  0.04553042]],\n",
       "      dtype=float32)"
      ]
     },
     "execution_count": 114,
     "metadata": {},
     "output_type": "execute_result"
    }
   ],
   "source": [
    "layer1.forward(x)\n",
    "layer1.output"
   ]
  },
  {
   "cell_type": "code",
   "execution_count": 115,
   "id": "618e8e74",
   "metadata": {},
   "outputs": [],
   "source": [
    "activation1 = Activation_ReLU()"
   ]
  },
  {
   "cell_type": "code",
   "execution_count": 116,
   "id": "33f22afd",
   "metadata": {},
   "outputs": [
    {
     "data": {
      "text/plain": [
       "array([[0.10758132, 1.0398352 , 0.2446241 , 0.31821495, 0.18851054],\n",
       "       [0.        , 0.70846415, 0.00293357, 0.44701523, 0.3636054 ],\n",
       "       [0.        , 0.5568842 , 0.07987796, 0.        , 0.04553042]],\n",
       "      dtype=float32)"
      ]
     },
     "execution_count": 116,
     "metadata": {},
     "output_type": "execute_result"
    }
   ],
   "source": [
    "activation1.forward(layer1.output)\n",
    "activation1.output"
   ]
  },
  {
   "cell_type": "markdown",
   "id": "14edaf05",
   "metadata": {},
   "source": [
    "### Softmax Activation\n",
    "\n",
    "Input -> Exponentiate -> Normalize -> Output\n",
    "\n",
    "Exponentiate and Normalize together is softmax\n"
   ]
  },
  {
   "cell_type": "code",
   "execution_count": 117,
   "id": "ac8d5bb2",
   "metadata": {},
   "outputs": [
    {
     "name": "stdout",
     "output_type": "stream",
     "text": [
      "Requirement already satisfied: nnfs in c:\\users\\lenovo\\anaconda3\\lib\\site-packages (0.5.1)\n",
      "Requirement already satisfied: numpy in c:\\users\\lenovo\\appdata\\roaming\\python\\python310\\site-packages (from nnfs) (1.23.2)\n"
     ]
    }
   ],
   "source": [
    "!pip install nnfs"
   ]
  },
  {
   "cell_type": "code",
   "execution_count": 118,
   "id": "1c146ace",
   "metadata": {},
   "outputs": [],
   "source": [
    "import math\n",
    "import nnfs"
   ]
  },
  {
   "cell_type": "code",
   "execution_count": 119,
   "id": "09c4f79c",
   "metadata": {},
   "outputs": [],
   "source": [
    "nnfs.init()"
   ]
  },
  {
   "cell_type": "code",
   "execution_count": 120,
   "id": "48c82abf",
   "metadata": {},
   "outputs": [],
   "source": [
    "layer_outputs = [4.8, 1.21, 2.385]"
   ]
  },
  {
   "cell_type": "code",
   "execution_count": 121,
   "id": "dcb4f9ff",
   "metadata": {},
   "outputs": [
    {
     "data": {
      "text/plain": [
       "2.718281828459045"
      ]
     },
     "execution_count": 121,
     "metadata": {},
     "output_type": "execute_result"
    }
   ],
   "source": [
    "E = math.e\n",
    "E"
   ]
  },
  {
   "cell_type": "code",
   "execution_count": 122,
   "id": "52f9498d",
   "metadata": {},
   "outputs": [
    {
     "data": {
      "text/plain": [
       "array([121.51041752,   3.35348465,  10.85906266])"
      ]
     },
     "execution_count": 122,
     "metadata": {},
     "output_type": "execute_result"
    }
   ],
   "source": [
    "exp_values = np.exp(layer_outputs)\n",
    "exp_values"
   ]
  },
  {
   "cell_type": "code",
   "execution_count": 123,
   "id": "cc18396e",
   "metadata": {},
   "outputs": [
    {
     "data": {
      "text/plain": [
       "array([0.89528266, 0.02470831, 0.08000903])"
      ]
     },
     "execution_count": 123,
     "metadata": {},
     "output_type": "execute_result"
    }
   ],
   "source": [
    "norm_values = exp_values / np.sum(exp_values)\n",
    "norm_values"
   ]
  },
  {
   "cell_type": "code",
   "execution_count": 124,
   "id": "71862620",
   "metadata": {},
   "outputs": [
    {
     "data": {
      "text/plain": [
       "0.9999999999999999"
      ]
     },
     "execution_count": 124,
     "metadata": {},
     "output_type": "execute_result"
    }
   ],
   "source": [
    "np.sum(norm_values)"
   ]
  },
  {
   "cell_type": "markdown",
   "id": "fcdd1b9f",
   "metadata": {},
   "source": [
    "#### Work as a batch"
   ]
  },
  {
   "cell_type": "code",
   "execution_count": 125,
   "id": "4c77bbb8",
   "metadata": {},
   "outputs": [],
   "source": [
    "layer_outputs = [[4.8, 1.21, 2.385],\n",
    "                [8.9, -1.81, 0.2],\n",
    "                [1.41, 1.051, 0.026]]"
   ]
  },
  {
   "cell_type": "code",
   "execution_count": 126,
   "id": "a7ece8cd",
   "metadata": {},
   "outputs": [
    {
     "data": {
      "text/plain": [
       "array([[1.21510418e+02, 3.35348465e+00, 1.08590627e+01],\n",
       "       [7.33197354e+03, 1.63654137e-01, 1.22140276e+00],\n",
       "       [4.09595540e+00, 2.86051020e+00, 1.02634095e+00]])"
      ]
     },
     "execution_count": 126,
     "metadata": {},
     "output_type": "execute_result"
    }
   ],
   "source": [
    "exp_values = np.exp(layer_outputs)\n",
    "exp_values"
   ]
  },
  {
   "cell_type": "code",
   "execution_count": 127,
   "id": "9b4bd244",
   "metadata": {},
   "outputs": [
    {
     "data": {
      "text/plain": [
       "array([[8.95282664e-01, 2.47083068e-02, 8.00090293e-02],\n",
       "       [9.99811129e-01, 2.23163963e-05, 1.66554348e-04],\n",
       "       [5.13097164e-01, 3.58333899e-01, 1.28568936e-01]])"
      ]
     },
     "execution_count": 127,
     "metadata": {},
     "output_type": "execute_result"
    }
   ],
   "source": [
    "norm_values = exp_values / np.sum(exp_values, axis=1, keepdims=True)\n",
    "norm_values"
   ]
  },
  {
   "cell_type": "code",
   "execution_count": 128,
   "id": "0748fe16",
   "metadata": {},
   "outputs": [
    {
     "data": {
      "text/plain": [
       "3.0"
      ]
     },
     "execution_count": 128,
     "metadata": {},
     "output_type": "execute_result"
    }
   ],
   "source": [
    "np.sum(norm_values)"
   ]
  },
  {
   "cell_type": "code",
   "execution_count": 129,
   "id": "a89a968e",
   "metadata": {},
   "outputs": [],
   "source": [
    "class Activation_Softmax:\n",
    "    def forward(self, inputs):\n",
    "       exp_values =  np.exp(inputs - np.max(inputs, axis=1, keepdims=True))\n",
    "       probabilities = exp_values / np.sum(exp_values, axis=1, keepdims=True)\n",
    "       self.output = probabilities   "
   ]
  },
  {
   "cell_type": "code",
   "execution_count": 130,
   "id": "25faae3e",
   "metadata": {},
   "outputs": [],
   "source": [
    "from nnfs.datasets import spiral_data"
   ]
  },
  {
   "cell_type": "code",
   "execution_count": 131,
   "id": "5e731a71",
   "metadata": {},
   "outputs": [],
   "source": [
    "X, y = spiral_data(samples=100, classes=3)"
   ]
  },
  {
   "cell_type": "code",
   "execution_count": 132,
   "id": "1325cb1a",
   "metadata": {},
   "outputs": [],
   "source": [
    "dense1 = Layer_Dense(2,3)\n",
    "activation1 = Activation_ReLU()"
   ]
  },
  {
   "cell_type": "code",
   "execution_count": 133,
   "id": "b140556d",
   "metadata": {},
   "outputs": [],
   "source": [
    "dense2 = Layer_Dense(3,3)\n",
    "activation2 = Activation_Softmax()"
   ]
  },
  {
   "cell_type": "code",
   "execution_count": 134,
   "id": "93911ddf",
   "metadata": {},
   "outputs": [],
   "source": [
    "dense1.forward(X)\n",
    "activation1.forward(dense1.output)"
   ]
  },
  {
   "cell_type": "code",
   "execution_count": 135,
   "id": "5592f900",
   "metadata": {},
   "outputs": [],
   "source": [
    "dense2.forward(activation1.output)\n",
    "activation2.forward(dense2.output)"
   ]
  },
  {
   "cell_type": "code",
   "execution_count": 136,
   "id": "9bfbf5e6",
   "metadata": {},
   "outputs": [
    {
     "data": {
      "text/plain": [
       "array([[0.33333334, 0.33333334, 0.33333334],\n",
       "       [0.33331734, 0.3333183 , 0.33336434],\n",
       "       [0.3332888 , 0.33329153, 0.33341965],\n",
       "       [0.33325943, 0.33326396, 0.33347666],\n",
       "       [0.33323312, 0.33323926, 0.33352762]], dtype=float32)"
      ]
     },
     "execution_count": 136,
     "metadata": {},
     "output_type": "execute_result"
    }
   ],
   "source": [
    "activation2.output[:5]"
   ]
  },
  {
   "cell_type": "markdown",
   "id": "4217df77",
   "metadata": {},
   "source": [
    "## Categorical Cross-Entropy"
   ]
  },
  {
   "cell_type": "code",
   "execution_count": 137,
   "id": "1e5abc69",
   "metadata": {},
   "outputs": [
    {
     "data": {
      "text/plain": [
       "0.35667494393873245"
      ]
     },
     "execution_count": 137,
     "metadata": {},
     "output_type": "execute_result"
    }
   ],
   "source": [
    "softmax_output = [0.7, 0.1, 0.2]\n",
    "target_output = [1,0,0]\n",
    "\n",
    "loss = -(math.log(softmax_output[0])*target_output[0] + math.log(softmax_output[1])*target_output[1] + math.log(softmax_output[2])*target_output[2])\n",
    "loss"
   ]
  },
  {
   "cell_type": "code",
   "execution_count": 138,
   "id": "57bfd888",
   "metadata": {},
   "outputs": [
    {
     "data": {
      "text/plain": [
       "array([0.7, 0.5, 0.9])"
      ]
     },
     "execution_count": 138,
     "metadata": {},
     "output_type": "execute_result"
    }
   ],
   "source": [
    "softmax_outputs = np.array([[0.7,0.1,0.2],[0.1,0.5,0.4],[0.02,0.9,0.08]])\n",
    "class_targets = [0, 1, 1]\n",
    "softmax_outputs[[0,1,2], class_targets]"
   ]
  },
  {
   "cell_type": "code",
   "execution_count": 139,
   "id": "40cc0c86",
   "metadata": {},
   "outputs": [],
   "source": [
    "class Loss:\n",
    "    def calculate(self, output, y):\n",
    "        sample_losses = self.forward(output, y)\n",
    "        data_loss = np.mean(sample_losses)\n",
    "        return data_loss"
   ]
  },
  {
   "cell_type": "code",
   "execution_count": 144,
   "id": "37b81b30",
   "metadata": {},
   "outputs": [],
   "source": [
    "class Loss_CategoricalCrossEntropy(Loss):\n",
    "    def forward(self, y_pred, y_true):\n",
    "        samples = len(y_pred)\n",
    "        y_pred_clipped = np.clip(y_pred, 1e-7, 1-1e-7)\n",
    "        \n",
    "        if len(y_true.shape) == 1:\n",
    "            correct_confidences = y_pred_clipped[range(samples)]\n",
    "        elif len(y_true.shape) == 2:\n",
    "            correct_confidences = np.sum(y_pred_clipped*y_true, axis=1)\n",
    "            \n",
    "        negative_log_likelihoods = -np.log(correct_confidences)\n",
    "        return negative_log_likelihoods"
   ]
  },
  {
   "cell_type": "code",
   "execution_count": 145,
   "id": "a31b52e0",
   "metadata": {},
   "outputs": [
    {
     "data": {
      "text/plain": [
       "1.0986278"
      ]
     },
     "execution_count": 145,
     "metadata": {},
     "output_type": "execute_result"
    }
   ],
   "source": [
    "loss_function = Loss_CategoricalCrossEntropy()\n",
    "loss = loss_function.calculate(activation2.output, y)\n",
    "loss"
   ]
  }
 ],
 "metadata": {
  "kernelspec": {
   "display_name": "Python 3 (ipykernel)",
   "language": "python",
   "name": "python3"
  },
  "language_info": {
   "codemirror_mode": {
    "name": "ipython",
    "version": 3
   },
   "file_extension": ".py",
   "mimetype": "text/x-python",
   "name": "python",
   "nbconvert_exporter": "python",
   "pygments_lexer": "ipython3",
   "version": "3.10.9"
  }
 },
 "nbformat": 4,
 "nbformat_minor": 5
}
